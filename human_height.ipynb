{
 "cells": [
  {
   "cell_type": "markdown",
   "id": "0cd568cc",
   "metadata": {},
   "source": [
    "# Use CDF to Calculate Probabilities (Practice)\n",
    "\n",
    "We will use the human height data set:\n",
    "\n",
    "Use the normal cumulative distribution function with the mean and standard deviation of female height to calculate the probability that a female's height is:\n",
    "\n",
    "1. between 55.0 and 56.0 inches\n",
    "\n",
    "2. is less than 5 feet (60 in)\n",
    "\n",
    "3. is greater than the mean (hint: do you know this answer intuitively?)"
   ]
  },
  {
   "cell_type": "markdown",
   "id": "47e904c9",
   "metadata": {},
   "source": [
    "# Import"
   ]
  },
  {
   "cell_type": "code",
   "execution_count": 7,
   "id": "d8f245fe",
   "metadata": {},
   "outputs": [],
   "source": [
    "import pandas as pd\n",
    "import numpy as np\n",
    "import matplotlib.pyplot as plt\n",
    "import seaborn as sns\n",
    "import scipy.stats as stats\n",
    "import numpy as np"
   ]
  },
  {
   "cell_type": "markdown",
   "id": "89f7c7bb",
   "metadata": {},
   "source": [
    "# Load data"
   ]
  },
  {
   "cell_type": "code",
   "execution_count": 4,
   "id": "062a5757",
   "metadata": {},
   "outputs": [
    {
     "data": {
      "text/html": [
       "<div>\n",
       "<style scoped>\n",
       "    .dataframe tbody tr th:only-of-type {\n",
       "        vertical-align: middle;\n",
       "    }\n",
       "\n",
       "    .dataframe tbody tr th {\n",
       "        vertical-align: top;\n",
       "    }\n",
       "\n",
       "    .dataframe thead th {\n",
       "        text-align: right;\n",
       "    }\n",
       "</style>\n",
       "<table border=\"1\" class=\"dataframe\">\n",
       "  <thead>\n",
       "    <tr style=\"text-align: right;\">\n",
       "      <th></th>\n",
       "      <th>Gender</th>\n",
       "      <th>Height</th>\n",
       "      <th>Weight</th>\n",
       "    </tr>\n",
       "  </thead>\n",
       "  <tbody>\n",
       "    <tr>\n",
       "      <th>0</th>\n",
       "      <td>Male</td>\n",
       "      <td>73.847017</td>\n",
       "      <td>241.893563</td>\n",
       "    </tr>\n",
       "    <tr>\n",
       "      <th>1</th>\n",
       "      <td>Male</td>\n",
       "      <td>68.781904</td>\n",
       "      <td>162.310473</td>\n",
       "    </tr>\n",
       "    <tr>\n",
       "      <th>2</th>\n",
       "      <td>Male</td>\n",
       "      <td>74.110105</td>\n",
       "      <td>212.740856</td>\n",
       "    </tr>\n",
       "    <tr>\n",
       "      <th>3</th>\n",
       "      <td>Male</td>\n",
       "      <td>71.730978</td>\n",
       "      <td>220.042470</td>\n",
       "    </tr>\n",
       "    <tr>\n",
       "      <th>4</th>\n",
       "      <td>Male</td>\n",
       "      <td>69.881796</td>\n",
       "      <td>206.349801</td>\n",
       "    </tr>\n",
       "    <tr>\n",
       "      <th>...</th>\n",
       "      <td>...</td>\n",
       "      <td>...</td>\n",
       "      <td>...</td>\n",
       "    </tr>\n",
       "    <tr>\n",
       "      <th>9995</th>\n",
       "      <td>Female</td>\n",
       "      <td>66.172652</td>\n",
       "      <td>136.777454</td>\n",
       "    </tr>\n",
       "    <tr>\n",
       "      <th>9996</th>\n",
       "      <td>Female</td>\n",
       "      <td>67.067155</td>\n",
       "      <td>170.867906</td>\n",
       "    </tr>\n",
       "    <tr>\n",
       "      <th>9997</th>\n",
       "      <td>Female</td>\n",
       "      <td>63.867992</td>\n",
       "      <td>128.475319</td>\n",
       "    </tr>\n",
       "    <tr>\n",
       "      <th>9998</th>\n",
       "      <td>Female</td>\n",
       "      <td>69.034243</td>\n",
       "      <td>163.852461</td>\n",
       "    </tr>\n",
       "    <tr>\n",
       "      <th>9999</th>\n",
       "      <td>Female</td>\n",
       "      <td>61.944246</td>\n",
       "      <td>113.649103</td>\n",
       "    </tr>\n",
       "  </tbody>\n",
       "</table>\n",
       "<p>10000 rows × 3 columns</p>\n",
       "</div>"
      ],
      "text/plain": [
       "      Gender     Height      Weight\n",
       "0       Male  73.847017  241.893563\n",
       "1       Male  68.781904  162.310473\n",
       "2       Male  74.110105  212.740856\n",
       "3       Male  71.730978  220.042470\n",
       "4       Male  69.881796  206.349801\n",
       "...      ...        ...         ...\n",
       "9995  Female  66.172652  136.777454\n",
       "9996  Female  67.067155  170.867906\n",
       "9997  Female  63.867992  128.475319\n",
       "9998  Female  69.034243  163.852461\n",
       "9999  Female  61.944246  113.649103\n",
       "\n",
       "[10000 rows x 3 columns]"
      ]
     },
     "execution_count": 4,
     "metadata": {},
     "output_type": "execute_result"
    }
   ],
   "source": [
    "df= pd.read_csv(\"K:\\coding_DOJO\\weight-height - weight-height.csv\")\n",
    "df"
   ]
  },
  {
   "cell_type": "code",
   "execution_count": 5,
   "id": "389b906d",
   "metadata": {},
   "outputs": [
    {
     "data": {
      "text/plain": [
       "5000    58.910732\n",
       "5001    65.230013\n",
       "5002    63.369004\n",
       "5003    64.479997\n",
       "5004    61.793096\n",
       "          ...    \n",
       "9995    66.172652\n",
       "9996    67.067155\n",
       "9997    63.867992\n",
       "9998    69.034243\n",
       "9999    61.944246\n",
       "Name: Height, Length: 5000, dtype: float64"
      ]
     },
     "execution_count": 5,
     "metadata": {},
     "output_type": "execute_result"
    }
   ],
   "source": [
    "# I will use only height of female \n",
    "data = df['Height'].loc[df['Gender'] == 'Female'].copy()\n",
    "data"
   ]
  },
  {
   "cell_type": "code",
   "execution_count": 25,
   "id": "17573843",
   "metadata": {},
   "outputs": [],
   "source": [
    "# calculate mean, std, min and max\n",
    "min = np.min(data)\n",
    "max = np.max(data)\n",
    "mean = np.mean(data)\n",
    "std = np.std(data)"
   ]
  },
  {
   "cell_type": "markdown",
   "id": "4c87b47f",
   "metadata": {},
   "source": [
    "# 1 - between 55.0 and 56.0 inches"
   ]
  },
  {
   "cell_type": "code",
   "execution_count": 19,
   "id": "5c966a2c",
   "metadata": {},
   "outputs": [],
   "source": [
    "low_end = 55.0\n",
    "high_end = 56.0"
   ]
  },
  {
   "cell_type": "code",
   "execution_count": 23,
   "id": "83d84ea5",
   "metadata": {},
   "outputs": [
    {
     "data": {
      "text/plain": [
       "<matplotlib.patches.Polygon at 0x1f0e531fb50>"
      ]
     },
     "execution_count": 23,
     "metadata": {},
     "output_type": "execute_result"
    },
    {
     "data": {
      "image/png": "[encoded data removed]",
      "text/plain": [
       "<Figure size 1000x600 with 1 Axes>"
      ]
     },
     "metadata": {},
     "output_type": "display_data"
    }
   ],
   "source": [
    "fig,ax = plt.subplots(figsize=(10,6))\n",
    "sns.histplot(x=data, stat= 'density', kde=True )\n",
    "ax.set_title('Distribution of female height')\n",
    "ax.axvline(low_end, color='black')\n",
    "ax.axvline(high_end, color = 'black')\n",
    "ax.axvline(mean, color ='k', ls='--')\n",
    "ax.axvspan(low_end, high_end, color = 'lightyellow', zorder = 0)"
   ]
  },
  {
   "cell_type": "code",
   "execution_count": 26,
   "id": "cd141de6",
   "metadata": {},
   "outputs": [],
   "source": [
    "# Set the range and spacing for our normal curve\n",
    "x_range = np.linspace(min, max,1000)"
   ]
  },
  {
   "cell_type": "code",
   "execution_count": 33,
   "id": "121c0fae",
   "metadata": {},
   "outputs": [],
   "source": [
    "# set cumulative distribution function \n",
    "cdf = stats.norm.cdf(x_range, loc=mean, scale=std)"
   ]
  },
  {
   "cell_type": "code",
   "execution_count": 37,
   "id": "e6a9c672",
   "metadata": {},
   "outputs": [
    {
     "data": {
      "image/png": "[encoded data removed]",
      "text/plain": [
       "<Figure size 1200x600 with 1 Axes>"
      ]
     },
     "metadata": {},
     "output_type": "display_data"
    }
   ],
   "source": [
    "# plot Cumulative Distribution\n",
    "\n",
    "fig, ax = plt.subplots(figsize=(12,6))\n",
    "sns.histplot(x=data, stat='density', cumulative = True)\n",
    "ax.plot(x_range,cdf)\n",
    "ax.axvline(high_end, color = 'black')\n",
    "ax.axvline(low_end, color = 'black')\n",
    "ax.axvspan(low_end, high_end, color = 'lightyellow', zorder=0)\n",
    "ax.set_title('range of interest');"
   ]
  },
  {
   "cell_type": "code",
   "execution_count": 38,
   "id": "cb384a95",
   "metadata": {},
   "outputs": [
    {
     "data": {
      "text/plain": [
       "0.0015043054289559897"
      ]
     },
     "execution_count": 38,
     "metadata": {},
     "output_type": "execute_result"
    }
   ],
   "source": [
    "# subtract to find the probability of a value occurring in the range \n",
    "answer_1 = stats.norm.cdf(high_end, loc=mean, scale=std) - stats.norm.cdf(low_end, loc=mean, scale=std)\n",
    "answer_1"
   ]
  },
  {
   "cell_type": "markdown",
   "id": "3c8065ed",
   "metadata": {},
   "source": [
    "The probability that a female's height is between 55.0 and 56.0 inches is 1,15%"
   ]
  },
  {
   "cell_type": "markdown",
   "id": "c7224177",
   "metadata": {},
   "source": [
    "# 2. is less than 5 feet (60 in)"
   ]
  },
  {
   "cell_type": "code",
   "execution_count": 39,
   "id": "9291b8e6",
   "metadata": {},
   "outputs": [
    {
     "data": {
      "text/plain": [
       "0.08446492725207488"
      ]
     },
     "execution_count": 39,
     "metadata": {},
     "output_type": "execute_result"
    }
   ],
   "source": [
    "answer_2 = stats.norm.cdf(60, loc=mean, scale=std)\n",
    "answer_2"
   ]
  },
  {
   "cell_type": "markdown",
   "id": "dc35b523",
   "metadata": {},
   "source": [
    "The probability that a female's height is less than 60 in is 8.4%"
   ]
  },
  {
   "cell_type": "markdown",
   "id": "416fbbbf",
   "metadata": {},
   "source": [
    "# 3. is greater than the mean (hint: do you know this answer intuitively?)"
   ]
  },
  {
   "cell_type": "code",
   "execution_count": 41,
   "id": "b1d2449d",
   "metadata": {},
   "outputs": [
    {
     "data": {
      "text/plain": [
       "63.708773603458006"
      ]
     },
     "execution_count": 41,
     "metadata": {},
     "output_type": "execute_result"
    }
   ],
   "source": [
    "mean"
   ]
  },
  {
   "cell_type": "code",
   "execution_count": 42,
   "id": "46e34e46",
   "metadata": {},
   "outputs": [
    {
     "data": {
      "text/plain": [
       "0.5"
      ]
     },
     "execution_count": 42,
     "metadata": {},
     "output_type": "execute_result"
    }
   ],
   "source": [
    "answer_3 = 1 - stats.norm.cdf(mean, loc=mean, scale=std)\n",
    "answer_3 "
   ]
  },
  {
   "cell_type": "markdown",
   "id": "0747fbef",
   "metadata": {},
   "source": [
    "The probability that a female's height is greater than the mean is 50%"
   ]
  },
  {
   "cell_type": "code",
   "execution_count": null,
   "id": "66034773",
   "metadata": {},
   "outputs": [],
   "source": []
  }
 ],
 "metadata": {
  "kernelspec": {
   "display_name": "Python (dojo-env)",
   "language": "python",
   "name": "dojo-env"
  },
  "language_info": {
   "codemirror_mode": {
    "name": "ipython",
    "version": 3
   },
   "file_extension": ".py",
   "mimetype": "text/x-python",
   "name": "python",
   "nbconvert_exporter": "python",
   "pygments_lexer": "ipython3",
   "version": "3.9.15"
  },
  "toc": {
   "base_numbering": 1,
   "nav_menu": {},
   "number_sections": false,
   "sideBar": true,
   "skip_h1_title": false,
   "title_cell": "Table of Contents",
   "title_sidebar": "Contents",
   "toc_cell": false,
   "toc_position": {},
   "toc_section_display": true,
   "toc_window_display": true
  }
 },
 "nbformat": 4,
 "nbformat_minor": 5
}
